{
 "cells": [
  {
   "cell_type": "code",
   "execution_count": 1,
   "id": "81074f92",
   "metadata": {},
   "outputs": [],
   "source": [
    "import pandas as pd\n",
    "import numpy as np\n",
    "import matplotlib.pyplot as plt\n",
    "import os\n",
    "import json\n",
    "import seaborn as sns\n",
    "pd.set_option('display.max_rows', 300)\n",
    "\n",
    "plt.style.use('seaborn-v0_8')"
   ]
  },
  {
   "cell_type": "code",
   "execution_count": null,
   "id": "0d6ba6b2",
   "metadata": {},
   "outputs": [],
   "source": []
  },
  {
   "cell_type": "code",
   "execution_count": 2,
   "id": "bdbf8bc4",
   "metadata": {},
   "outputs": [],
   "source": [
    "## carregar base\n",
    "\n",
    "df = pd.read_csv('Salary_Data_Based_country_and_race.csv')\n",
    "df.drop('Unnamed: 0', axis=1, inplace=True)"
   ]
  },
  {
   "cell_type": "code",
   "execution_count": 3,
   "id": "dad3e83c",
   "metadata": {},
   "outputs": [
    {
     "name": "stdout",
     "output_type": "stream",
     "text": [
      "(6704, 8)\n"
     ]
    }
   ],
   "source": [
    "df = df.rename(columns={'Education Level': 'Education_Level', \n",
    "                        'Job Title': 'Job_Title', \n",
    "                        'Years of Experience': 'Years_of_Experience'})\n",
    "print(df.shape)"
   ]
  },
  {
   "cell_type": "code",
   "execution_count": 4,
   "id": "8fb657c3",
   "metadata": {},
   "outputs": [
    {
     "data": {
      "text/html": [
       "<div>\n",
       "<style scoped>\n",
       "    .dataframe tbody tr th:only-of-type {\n",
       "        vertical-align: middle;\n",
       "    }\n",
       "\n",
       "    .dataframe tbody tr th {\n",
       "        vertical-align: top;\n",
       "    }\n",
       "\n",
       "    .dataframe thead th {\n",
       "        text-align: right;\n",
       "    }\n",
       "</style>\n",
       "<table border=\"1\" class=\"dataframe\">\n",
       "  <thead>\n",
       "    <tr style=\"text-align: right;\">\n",
       "      <th></th>\n",
       "      <th>Age</th>\n",
       "      <th>Gender</th>\n",
       "      <th>Education_Level</th>\n",
       "      <th>Job_Title</th>\n",
       "      <th>Years_of_Experience</th>\n",
       "      <th>Salary</th>\n",
       "      <th>Country</th>\n",
       "      <th>Race</th>\n",
       "    </tr>\n",
       "  </thead>\n",
       "  <tbody>\n",
       "    <tr>\n",
       "      <th>6701</th>\n",
       "      <td>30.0</td>\n",
       "      <td>Female</td>\n",
       "      <td>Bachelor's Degree</td>\n",
       "      <td>Financial Manager</td>\n",
       "      <td>4.0</td>\n",
       "      <td>55000.0</td>\n",
       "      <td>China</td>\n",
       "      <td>Chinese</td>\n",
       "    </tr>\n",
       "    <tr>\n",
       "      <th>6702</th>\n",
       "      <td>46.0</td>\n",
       "      <td>Male</td>\n",
       "      <td>Master's Degree</td>\n",
       "      <td>Marketing Manager</td>\n",
       "      <td>14.0</td>\n",
       "      <td>140000.0</td>\n",
       "      <td>China</td>\n",
       "      <td>Korean</td>\n",
       "    </tr>\n",
       "    <tr>\n",
       "      <th>6703</th>\n",
       "      <td>26.0</td>\n",
       "      <td>Female</td>\n",
       "      <td>High School</td>\n",
       "      <td>Sales Executive</td>\n",
       "      <td>1.0</td>\n",
       "      <td>35000.0</td>\n",
       "      <td>Canada</td>\n",
       "      <td>Black</td>\n",
       "    </tr>\n",
       "  </tbody>\n",
       "</table>\n",
       "</div>"
      ],
      "text/plain": [
       "       Age  Gender    Education_Level          Job_Title  Years_of_Experience  \\\n",
       "6701  30.0  Female  Bachelor's Degree  Financial Manager                  4.0   \n",
       "6702  46.0    Male    Master's Degree  Marketing Manager                 14.0   \n",
       "6703  26.0  Female        High School    Sales Executive                  1.0   \n",
       "\n",
       "        Salary Country     Race  \n",
       "6701   55000.0   China  Chinese  \n",
       "6702  140000.0   China   Korean  \n",
       "6703   35000.0  Canada    Black  "
      ]
     },
     "execution_count": 4,
     "metadata": {},
     "output_type": "execute_result"
    }
   ],
   "source": [
    "df.tail(3)"
   ]
  },
  {
   "cell_type": "code",
   "execution_count": 5,
   "id": "00ab7f82",
   "metadata": {},
   "outputs": [],
   "source": [
    "df_preprocess = df.copy()"
   ]
  },
  {
   "cell_type": "code",
   "execution_count": 6,
   "id": "5d53e8e7",
   "metadata": {},
   "outputs": [],
   "source": [
    "### para facilitar as análises, faço a separação das colunas numéricas e categóricas\n",
    "\n",
    "d_col = {'num':[], 'cat':[]} \n",
    "for col in df_preprocess.columns:\n",
    "    if df_preprocess[col].dtype=='object':\n",
    "        df_preprocess[col] = df_preprocess[col].str.lower().str.replace(' ', '_')\n",
    "        d_col['cat'].append(col)\n",
    "    else:\n",
    "        d_col['num'].append(col)"
   ]
  },
  {
   "cell_type": "code",
   "execution_count": 7,
   "id": "ee54e458",
   "metadata": {},
   "outputs": [
    {
     "data": {
      "text/plain": [
       "{'num': ['Age', 'Years_of_Experience', 'Salary'],\n",
       " 'cat': ['Gender', 'Education_Level', 'Job_Title', 'Country', 'Race']}"
      ]
     },
     "execution_count": 7,
     "metadata": {},
     "output_type": "execute_result"
    }
   ],
   "source": [
    "d_col"
   ]
  },
  {
   "cell_type": "code",
   "execution_count": 8,
   "id": "50a760d6",
   "metadata": {},
   "outputs": [],
   "source": [
    "## fill missing colunas numéricas pela mediana\n",
    "for col in d_col['num']:\n",
    "    df_preprocess[col] = df_preprocess[col].fillna(value=df_preprocess[col].median())\n",
    "    \n",
    "## fill missing colunas categóricas pela moda\n",
    "for col in d_col['cat']:\n",
    "    df_preprocess[col] = df_preprocess[col].fillna(value=df_preprocess[col].mode().squeeze()) "
   ]
  },
  {
   "cell_type": "code",
   "execution_count": 9,
   "id": "0adb0869",
   "metadata": {},
   "outputs": [],
   "source": [
    "### adequação das classes 'Education_Level' e 'Race' de acordo com as exploração dos dados\n",
    "\n",
    "df_preprocess['Education_Level'] = df_preprocess['Education_Level'].replace({\"bachelor's_degree\": \"bachelor's\", \"master's_degree\": \"master's\"})\n",
    "df_preprocess['Race'] = df_preprocess['Race'].replace({'australian': 'white', 'welsh': 'white', 'korean': 'asian', 'chinese': 'asian', 'african_american': 'black'})"
   ]
  },
  {
   "cell_type": "code",
   "execution_count": 10,
   "id": "3e9a0c83",
   "metadata": {},
   "outputs": [],
   "source": [
    "### remoção dos gêneros 'other', dado sua insignificancia numérica\n",
    "df_preprocess = df_preprocess[df_preprocess['Gender']!='other']"
   ]
  },
  {
   "cell_type": "code",
   "execution_count": 19,
   "id": "9bafa1de",
   "metadata": {},
   "outputs": [
    {
     "name": "stdout",
     "output_type": "stream",
     "text": [
      "25000.0 219000.0\n"
     ]
    }
   ],
   "source": [
    "### remover os dois extremos salariais\n",
    "\n",
    "min_ = df_preprocess['Salary'].quantile(.005)\n",
    "max_ = df_preprocess['Salary'].quantile(.995)\n",
    "\n",
    "df_preprocess = df_preprocess[(df_preprocess['Salary']>=min_) & (df_preprocess['Salary']<=max_)]\n",
    "\n",
    "print(min_, max_)"
   ]
  },
  {
   "cell_type": "code",
   "execution_count": null,
   "id": "e6693262",
   "metadata": {},
   "outputs": [],
   "source": []
  },
  {
   "cell_type": "code",
   "execution_count": 11,
   "id": "7d1814a2",
   "metadata": {},
   "outputs": [
    {
     "name": "stdout",
     "output_type": "stream",
     "text": [
      "colunas \"encondáveis\": ['Gender', 'Education_Level', 'Job_Title', 'Country', 'Race']\n"
     ]
    }
   ],
   "source": [
    "from sklearn.preprocessing import LabelEncoder\n",
    "\n",
    "print('colunas \"encondáveis\":' ,d_col['cat'])"
   ]
  },
  {
   "cell_type": "code",
   "execution_count": 12,
   "id": "f35d0031",
   "metadata": {},
   "outputs": [],
   "source": [
    "datapath = 'data_preprocess'"
   ]
  },
  {
   "cell_type": "code",
   "execution_count": 13,
   "id": "97c3c2da",
   "metadata": {},
   "outputs": [],
   "source": [
    "### encoding categorical (o 'Job_Title' terá um tratamento diferente dado sua grande quantidade de classes)\n",
    "\n",
    "le = LabelEncoder()\n",
    "\n",
    "for col in d_col['cat']:\n",
    "    if col!='Job_Title':\n",
    "        df_preprocess[col] = le.fit_transform(df_preprocess[col])\n",
    "        le_json = dict(zip(le.classes_, le.transform(le.classes_).astype('str')))\n",
    "        jsonpath = os.path.join(datapath, col+'.json')\n",
    "        with open(jsonpath, 'w') as f:\n",
    "            json.dump(le_json, f)"
   ]
  },
  {
   "cell_type": "code",
   "execution_count": 14,
   "id": "87e5c9d5",
   "metadata": {
    "collapsed": true
   },
   "outputs": [
    {
     "data": {
      "text/plain": [
       "[('senior', 50),\n",
       " ('manager', 44),\n",
       " ('junior', 36),\n",
       " ('marketing', 21),\n",
       " ('analyst', 20),\n",
       " ('director', 20),\n",
       " ('of', 14),\n",
       " ('specialist', 14),\n",
       " ('operations', 13),\n",
       " ('sales', 12),\n",
       " ('coordinator', 12),\n",
       " ('engineer', 11),\n",
       " ('software', 10),\n",
       " ('data', 10),\n",
       " ('hr', 10),\n",
       " ('product', 9),\n",
       " ('developer', 9),\n",
       " ('business', 9),\n",
       " ('designer', 9),\n",
       " ('scientist', 8),\n",
       " ('financial', 8),\n",
       " ('project', 8),\n",
       " ('human', 8),\n",
       " ('resources', 7),\n",
       " ('customer', 6)]"
      ]
     },
     "execution_count": 14,
     "metadata": {},
     "output_type": "execute_result"
    }
   ],
   "source": [
    "### encoding Job_Title\n",
    "### existe 192 classes de Job_Title, muito deles com frequencia única\n",
    "### Algumas profissões são nomeadas com o nivel junior, senior, diretor etc. Porém há classes sem a especificidade do nivel\n",
    "### Por exemplo, há \"data_scientist\", \"senior_data_scientist\", \"junior_data_scientist\" e \"director_of_data_science\"\n",
    "### O tokenization e encoding será feito de forma que essas classes equivalentes a \"data_scientist\" sejam aproximadas, como o exemplo:\n",
    "### \"data_scientist\": [0, 14, 20], \"senior_data_scientist\": [1, 14, 20], \"junior_data_scientist\": [3, 14, 20], \"director_of_data_science\": [6, 14, 20]\n",
    "### Essa aproximação é feita pelos elementos em comum [14, 20], o que não ocorreria no caso de uma simples troca das classes por um número como\n",
    "### \"data_scientist\": 1, \"senior_data_scientist\": 2, \"junior_data_scientist\": 3, \"director_of_data_science\": 4\n",
    "\n",
    "import nltk\n",
    "\n",
    "ls_word = np.concatenate(df_preprocess['Job_Title'].drop_duplicates().reset_index(drop=True).str.split('_'))\n",
    "allWordDist = nltk.FreqDist(ls_word)\n",
    "allWordDist.most_common(25)"
   ]
  },
  {
   "cell_type": "code",
   "execution_count": 15,
   "id": "4853dbe8",
   "metadata": {},
   "outputs": [],
   "source": [
    "n_vocab = len(allWordDist)\n",
    "d_vocab = {}\n",
    "d_vocab_r = {}\n",
    "for i, word in enumerate(list(allWordDist)):\n",
    "    if word not in ['of', 'and']:\n",
    "        d_vocab[word] = i+1\n",
    "        d_vocab_r[i+1] = word\n",
    "        \n",
    "jsonpath = os.path.join(datapath, 'Job_Title_words.json')\n",
    "with open(jsonpath, 'w') as f:\n",
    "    json.dump(d_vocab, f)"
   ]
  },
  {
   "cell_type": "code",
   "execution_count": 16,
   "id": "5a2a8735",
   "metadata": {},
   "outputs": [],
   "source": [
    "ls_vec = []\n",
    "for tokeniz in df_preprocess['Job_Title'].str.split('_'):\n",
    "    ls_vec.append([0, 0, 0, 0] + [d_vocab[w] for w in tokeniz if w in d_vocab.keys()])\n",
    "\n",
    "df_preprocess['Job_Title_Vec'] = ls_vec\n",
    "df_preprocess['Job_Title_Vec'] = df_preprocess['Job_Title_Vec'].str.slice(-5)\n",
    "\n",
    "\n",
    "df_preprocess['Job_Title_Vec_1'] = df_preprocess['Job_Title_Vec'].apply(lambda x: x[0])\n",
    "df_preprocess['Job_Title_Vec_2'] = df_preprocess['Job_Title_Vec'].apply(lambda x: x[1])\n",
    "df_preprocess['Job_Title_Vec_3'] = df_preprocess['Job_Title_Vec'].apply(lambda x: x[2])\n",
    "df_preprocess['Job_Title_Vec_4'] = df_preprocess['Job_Title_Vec'].apply(lambda x: x[3])\n",
    "df_preprocess['Job_Title_Vec_5'] = df_preprocess['Job_Title_Vec'].apply(lambda x: x[4])"
   ]
  },
  {
   "cell_type": "code",
   "execution_count": 18,
   "id": "f19e134e",
   "metadata": {},
   "outputs": [
    {
     "data": {
      "text/html": [
       "<div>\n",
       "<style scoped>\n",
       "    .dataframe tbody tr th:only-of-type {\n",
       "        vertical-align: middle;\n",
       "    }\n",
       "\n",
       "    .dataframe tbody tr th {\n",
       "        vertical-align: top;\n",
       "    }\n",
       "\n",
       "    .dataframe thead th {\n",
       "        text-align: right;\n",
       "    }\n",
       "</style>\n",
       "<table border=\"1\" class=\"dataframe\">\n",
       "  <thead>\n",
       "    <tr style=\"text-align: right;\">\n",
       "      <th></th>\n",
       "      <th>Job_Title</th>\n",
       "      <th>Job_Title_Vec_1</th>\n",
       "      <th>Job_Title_Vec_2</th>\n",
       "      <th>Job_Title_Vec_3</th>\n",
       "      <th>Job_Title_Vec_4</th>\n",
       "      <th>Job_Title_Vec_5</th>\n",
       "    </tr>\n",
       "  </thead>\n",
       "  <tbody>\n",
       "    <tr>\n",
       "      <th>10</th>\n",
       "      <td>software_developer</td>\n",
       "      <td>0</td>\n",
       "      <td>0</td>\n",
       "      <td>0</td>\n",
       "      <td>13</td>\n",
       "      <td>17</td>\n",
       "    </tr>\n",
       "    <tr>\n",
       "      <th>27</th>\n",
       "      <td>junior_developer</td>\n",
       "      <td>0</td>\n",
       "      <td>0</td>\n",
       "      <td>0</td>\n",
       "      <td>3</td>\n",
       "      <td>17</td>\n",
       "    </tr>\n",
       "    <tr>\n",
       "      <th>70</th>\n",
       "      <td>web_developer</td>\n",
       "      <td>0</td>\n",
       "      <td>0</td>\n",
       "      <td>0</td>\n",
       "      <td>43</td>\n",
       "      <td>17</td>\n",
       "    </tr>\n",
       "    <tr>\n",
       "      <th>97</th>\n",
       "      <td>junior_software_developer</td>\n",
       "      <td>0</td>\n",
       "      <td>0</td>\n",
       "      <td>3</td>\n",
       "      <td>13</td>\n",
       "      <td>17</td>\n",
       "    </tr>\n",
       "    <tr>\n",
       "      <th>103</th>\n",
       "      <td>junior_web_developer</td>\n",
       "      <td>0</td>\n",
       "      <td>0</td>\n",
       "      <td>3</td>\n",
       "      <td>43</td>\n",
       "      <td>17</td>\n",
       "    </tr>\n",
       "    <tr>\n",
       "      <th>129</th>\n",
       "      <td>senior_software_developer</td>\n",
       "      <td>0</td>\n",
       "      <td>0</td>\n",
       "      <td>1</td>\n",
       "      <td>13</td>\n",
       "      <td>17</td>\n",
       "    </tr>\n",
       "    <tr>\n",
       "      <th>1203</th>\n",
       "      <td>back_end_developer</td>\n",
       "      <td>0</td>\n",
       "      <td>0</td>\n",
       "      <td>88</td>\n",
       "      <td>60</td>\n",
       "      <td>17</td>\n",
       "    </tr>\n",
       "    <tr>\n",
       "      <th>1206</th>\n",
       "      <td>front_end_developer</td>\n",
       "      <td>0</td>\n",
       "      <td>0</td>\n",
       "      <td>91</td>\n",
       "      <td>60</td>\n",
       "      <td>17</td>\n",
       "    </tr>\n",
       "    <tr>\n",
       "      <th>2011</th>\n",
       "      <td>developer</td>\n",
       "      <td>0</td>\n",
       "      <td>0</td>\n",
       "      <td>0</td>\n",
       "      <td>0</td>\n",
       "      <td>17</td>\n",
       "    </tr>\n",
       "  </tbody>\n",
       "</table>\n",
       "</div>"
      ],
      "text/plain": [
       "                      Job_Title  Job_Title_Vec_1  Job_Title_Vec_2  \\\n",
       "10           software_developer                0                0   \n",
       "27             junior_developer                0                0   \n",
       "70                web_developer                0                0   \n",
       "97    junior_software_developer                0                0   \n",
       "103        junior_web_developer                0                0   \n",
       "129   senior_software_developer                0                0   \n",
       "1203         back_end_developer                0                0   \n",
       "1206        front_end_developer                0                0   \n",
       "2011                  developer                0                0   \n",
       "\n",
       "      Job_Title_Vec_3  Job_Title_Vec_4  Job_Title_Vec_5  \n",
       "10                  0               13               17  \n",
       "27                  0                3               17  \n",
       "70                  0               43               17  \n",
       "97                  3               13               17  \n",
       "103                 3               43               17  \n",
       "129                 1               13               17  \n",
       "1203               88               60               17  \n",
       "1206               91               60               17  \n",
       "2011                0                0               17  "
      ]
     },
     "execution_count": 18,
     "metadata": {},
     "output_type": "execute_result"
    }
   ],
   "source": [
    "## Todos os developers se identificam com o Job_Title_Vec_5=17, independente de suas especificações de função ou nivel.\n",
    "df_preprocess[df_preprocess['Job_Title'].str.contains('developer')][['Job_Title', 'Job_Title_Vec_1','Job_Title_Vec_2','Job_Title_Vec_3','Job_Title_Vec_4','Job_Title_Vec_5']].drop_duplicates()"
   ]
  },
  {
   "cell_type": "code",
   "execution_count": null,
   "id": "573e612b",
   "metadata": {},
   "outputs": [],
   "source": []
  },
  {
   "cell_type": "code",
   "execution_count": 20,
   "id": "947cda44",
   "metadata": {
    "scrolled": true
   },
   "outputs": [
    {
     "data": {
      "text/html": [
       "<div>\n",
       "<style scoped>\n",
       "    .dataframe tbody tr th:only-of-type {\n",
       "        vertical-align: middle;\n",
       "    }\n",
       "\n",
       "    .dataframe tbody tr th {\n",
       "        vertical-align: top;\n",
       "    }\n",
       "\n",
       "    .dataframe thead th {\n",
       "        text-align: right;\n",
       "    }\n",
       "</style>\n",
       "<table border=\"1\" class=\"dataframe\">\n",
       "  <thead>\n",
       "    <tr style=\"text-align: right;\">\n",
       "      <th></th>\n",
       "      <th>Gender</th>\n",
       "      <th>Education_Level</th>\n",
       "      <th>Years_of_Experience</th>\n",
       "      <th>Country</th>\n",
       "      <th>Race</th>\n",
       "      <th>Job_Title_Vec_1</th>\n",
       "      <th>Job_Title_Vec_2</th>\n",
       "      <th>Job_Title_Vec_3</th>\n",
       "      <th>Job_Title_Vec_4</th>\n",
       "      <th>Job_Title_Vec_5</th>\n",
       "      <th>Salary</th>\n",
       "    </tr>\n",
       "  </thead>\n",
       "  <tbody>\n",
       "    <tr>\n",
       "      <th>0</th>\n",
       "      <td>1</td>\n",
       "      <td>0</td>\n",
       "      <td>5.0</td>\n",
       "      <td>3</td>\n",
       "      <td>4</td>\n",
       "      <td>0</td>\n",
       "      <td>0</td>\n",
       "      <td>0</td>\n",
       "      <td>13</td>\n",
       "      <td>12</td>\n",
       "      <td>90000.0</td>\n",
       "    </tr>\n",
       "    <tr>\n",
       "      <th>1</th>\n",
       "      <td>0</td>\n",
       "      <td>2</td>\n",
       "      <td>3.0</td>\n",
       "      <td>4</td>\n",
       "      <td>2</td>\n",
       "      <td>0</td>\n",
       "      <td>0</td>\n",
       "      <td>0</td>\n",
       "      <td>14</td>\n",
       "      <td>5</td>\n",
       "      <td>65000.0</td>\n",
       "    </tr>\n",
       "    <tr>\n",
       "      <th>2</th>\n",
       "      <td>1</td>\n",
       "      <td>3</td>\n",
       "      <td>15.0</td>\n",
       "      <td>1</td>\n",
       "      <td>4</td>\n",
       "      <td>0</td>\n",
       "      <td>0</td>\n",
       "      <td>0</td>\n",
       "      <td>1</td>\n",
       "      <td>2</td>\n",
       "      <td>150000.0</td>\n",
       "    </tr>\n",
       "  </tbody>\n",
       "</table>\n",
       "</div>"
      ],
      "text/plain": [
       "   Gender  Education_Level  Years_of_Experience  Country  Race  \\\n",
       "0       1                0                  5.0        3     4   \n",
       "1       0                2                  3.0        4     2   \n",
       "2       1                3                 15.0        1     4   \n",
       "\n",
       "   Job_Title_Vec_1  Job_Title_Vec_2  Job_Title_Vec_3  Job_Title_Vec_4  \\\n",
       "0                0                0                0               13   \n",
       "1                0                0                0               14   \n",
       "2                0                0                0                1   \n",
       "\n",
       "   Job_Title_Vec_5    Salary  \n",
       "0               12   90000.0  \n",
       "1                5   65000.0  \n",
       "2                2  150000.0  "
      ]
     },
     "execution_count": 20,
     "metadata": {},
     "output_type": "execute_result"
    }
   ],
   "source": [
    "columns_select = ['Gender', 'Education_Level', 'Years_of_Experience', 'Country', 'Race', \n",
    "                  'Job_Title_Vec_1', 'Job_Title_Vec_2', 'Job_Title_Vec_3', 'Job_Title_Vec_4', 'Job_Title_Vec_5',  \n",
    "                  'Salary']\n",
    "\n",
    "df_preprocess[columns_select].head(3)"
   ]
  },
  {
   "cell_type": "code",
   "execution_count": 21,
   "id": "edcc3c5a",
   "metadata": {},
   "outputs": [],
   "source": [
    "filename = os.path.join(datapath, 'salary_preprocess_1.csv')\n",
    "df_preprocess[columns_select].to_csv(filename, index=None)"
   ]
  },
  {
   "cell_type": "code",
   "execution_count": null,
   "id": "c225d6de",
   "metadata": {},
   "outputs": [],
   "source": []
  },
  {
   "cell_type": "markdown",
   "id": "2786d0ca",
   "metadata": {},
   "source": [
    "será testado um dataset onde houve mum simples encode do 'Job_Title'"
   ]
  },
  {
   "cell_type": "code",
   "execution_count": 23,
   "id": "f11780bc",
   "metadata": {},
   "outputs": [],
   "source": [
    "col = 'Job_Title'\n",
    "df_preprocess[col] = le.fit_transform(df_preprocess[col])\n",
    "le_json = dict(zip(le.classes_, le.transform(le.classes_).astype('str')))\n",
    "jsonpath = os.path.join(datapath, col+'.json')\n",
    "with open(jsonpath, 'w') as f:\n",
    "    json.dump(le_json, f)"
   ]
  },
  {
   "cell_type": "code",
   "execution_count": 24,
   "id": "9c86f209",
   "metadata": {},
   "outputs": [
    {
     "data": {
      "text/html": [
       "<div>\n",
       "<style scoped>\n",
       "    .dataframe tbody tr th:only-of-type {\n",
       "        vertical-align: middle;\n",
       "    }\n",
       "\n",
       "    .dataframe tbody tr th {\n",
       "        vertical-align: top;\n",
       "    }\n",
       "\n",
       "    .dataframe thead th {\n",
       "        text-align: right;\n",
       "    }\n",
       "</style>\n",
       "<table border=\"1\" class=\"dataframe\">\n",
       "  <thead>\n",
       "    <tr style=\"text-align: right;\">\n",
       "      <th></th>\n",
       "      <th>Gender</th>\n",
       "      <th>Education_Level</th>\n",
       "      <th>Years_of_Experience</th>\n",
       "      <th>Country</th>\n",
       "      <th>Race</th>\n",
       "      <th>Job_Title</th>\n",
       "      <th>Salary</th>\n",
       "    </tr>\n",
       "  </thead>\n",
       "  <tbody>\n",
       "    <tr>\n",
       "      <th>0</th>\n",
       "      <td>1</td>\n",
       "      <td>0</td>\n",
       "      <td>5.0</td>\n",
       "      <td>3</td>\n",
       "      <td>4</td>\n",
       "      <td>173</td>\n",
       "      <td>90000.0</td>\n",
       "    </tr>\n",
       "    <tr>\n",
       "      <th>1</th>\n",
       "      <td>0</td>\n",
       "      <td>2</td>\n",
       "      <td>3.0</td>\n",
       "      <td>4</td>\n",
       "      <td>2</td>\n",
       "      <td>15</td>\n",
       "      <td>65000.0</td>\n",
       "    </tr>\n",
       "    <tr>\n",
       "      <th>2</th>\n",
       "      <td>1</td>\n",
       "      <td>3</td>\n",
       "      <td>15.0</td>\n",
       "      <td>1</td>\n",
       "      <td>4</td>\n",
       "      <td>141</td>\n",
       "      <td>150000.0</td>\n",
       "    </tr>\n",
       "  </tbody>\n",
       "</table>\n",
       "</div>"
      ],
      "text/plain": [
       "   Gender  Education_Level  Years_of_Experience  Country  Race  Job_Title  \\\n",
       "0       1                0                  5.0        3     4        173   \n",
       "1       0                2                  3.0        4     2         15   \n",
       "2       1                3                 15.0        1     4        141   \n",
       "\n",
       "     Salary  \n",
       "0   90000.0  \n",
       "1   65000.0  \n",
       "2  150000.0  "
      ]
     },
     "execution_count": 24,
     "metadata": {},
     "output_type": "execute_result"
    }
   ],
   "source": [
    "columns_select = ['Gender', 'Education_Level', 'Years_of_Experience', 'Country', 'Race', 'Job_Title',  \n",
    "                  'Salary']\n",
    "\n",
    "df_preprocess[columns_select].head(3)"
   ]
  },
  {
   "cell_type": "code",
   "execution_count": 25,
   "id": "6f8495f3",
   "metadata": {},
   "outputs": [],
   "source": [
    "filename = os.path.join(datapath, 'salary_preprocess_2.csv')\n",
    "df_preprocess[columns_select].to_csv(filename, index=None)"
   ]
  },
  {
   "cell_type": "code",
   "execution_count": null,
   "id": "2986544f",
   "metadata": {},
   "outputs": [],
   "source": []
  }
 ],
 "metadata": {
  "kernelspec": {
   "display_name": "Python 3 (ipykernel)",
   "language": "python",
   "name": "python3"
  },
  "language_info": {
   "codemirror_mode": {
    "name": "ipython",
    "version": 3
   },
   "file_extension": ".py",
   "mimetype": "text/x-python",
   "name": "python",
   "nbconvert_exporter": "python",
   "pygments_lexer": "ipython3",
   "version": "3.11.5"
  }
 },
 "nbformat": 4,
 "nbformat_minor": 5
}
