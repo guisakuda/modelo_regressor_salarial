{
 "cells": [
  {
   "cell_type": "code",
   "execution_count": 1,
   "id": "81074f92",
   "metadata": {},
   "outputs": [
    {
     "name": "stderr",
     "output_type": "stream",
     "text": [
      "/home/guilherme_gauss/anaconda3/lib/python3.11/site-packages/fuzzywuzzy/fuzz.py:11: UserWarning: Using slow pure-python SequenceMatcher. Install python-Levenshtein to remove this warning\n",
      "  warnings.warn('Using slow pure-python SequenceMatcher. Install python-Levenshtein to remove this warning')\n"
     ]
    }
   ],
   "source": [
    "import pandas as pd\n",
    "import numpy as np\n",
    "import matplotlib.pyplot as plt\n",
    "import os\n",
    "import json\n",
    "import seaborn as sns\n",
    "from fuzzywuzzy import fuzz, process\n",
    "from sklearn.preprocessing import LabelEncoder\n",
    "import nltk\n",
    "\n",
    "pd.set_option('display.max_rows', 300)\n",
    "plt.style.use('seaborn-v0_8')"
   ]
  },
  {
   "cell_type": "code",
   "execution_count": null,
   "id": "0d6ba6b2",
   "metadata": {},
   "outputs": [],
   "source": []
  },
  {
   "cell_type": "code",
   "execution_count": 2,
   "id": "bdbf8bc4",
   "metadata": {},
   "outputs": [
    {
     "name": "stdout",
     "output_type": "stream",
     "text": [
      "(6704, 8)\n"
     ]
    }
   ],
   "source": [
    "### Carregar dataset\n",
    "\n",
    "df = pd.read_csv('Salary_Data_Based_country_and_race.csv')\n",
    "df.drop('Unnamed: 0', axis=1, inplace=True)\n",
    "df = df.rename(columns={'Education Level': 'Education_Level', \n",
    "                                    'Job Title': 'Job_Title', \n",
    "                                    'Years of Experience': 'Years_of_Experience'})\n",
    "print(df.shape)"
   ]
  },
  {
   "cell_type": "code",
   "execution_count": 3,
   "id": "8fb657c3",
   "metadata": {},
   "outputs": [
    {
     "data": {
      "text/html": [
       "<div>\n",
       "<style scoped>\n",
       "    .dataframe tbody tr th:only-of-type {\n",
       "        vertical-align: middle;\n",
       "    }\n",
       "\n",
       "    .dataframe tbody tr th {\n",
       "        vertical-align: top;\n",
       "    }\n",
       "\n",
       "    .dataframe thead th {\n",
       "        text-align: right;\n",
       "    }\n",
       "</style>\n",
       "<table border=\"1\" class=\"dataframe\">\n",
       "  <thead>\n",
       "    <tr style=\"text-align: right;\">\n",
       "      <th></th>\n",
       "      <th>Age</th>\n",
       "      <th>Gender</th>\n",
       "      <th>Education_Level</th>\n",
       "      <th>Job_Title</th>\n",
       "      <th>Years_of_Experience</th>\n",
       "      <th>Salary</th>\n",
       "      <th>Country</th>\n",
       "      <th>Race</th>\n",
       "    </tr>\n",
       "  </thead>\n",
       "  <tbody>\n",
       "    <tr>\n",
       "      <th>6701</th>\n",
       "      <td>30.0</td>\n",
       "      <td>Female</td>\n",
       "      <td>Bachelor's Degree</td>\n",
       "      <td>Financial Manager</td>\n",
       "      <td>4.0</td>\n",
       "      <td>55000.0</td>\n",
       "      <td>China</td>\n",
       "      <td>Chinese</td>\n",
       "    </tr>\n",
       "    <tr>\n",
       "      <th>6702</th>\n",
       "      <td>46.0</td>\n",
       "      <td>Male</td>\n",
       "      <td>Master's Degree</td>\n",
       "      <td>Marketing Manager</td>\n",
       "      <td>14.0</td>\n",
       "      <td>140000.0</td>\n",
       "      <td>China</td>\n",
       "      <td>Korean</td>\n",
       "    </tr>\n",
       "    <tr>\n",
       "      <th>6703</th>\n",
       "      <td>26.0</td>\n",
       "      <td>Female</td>\n",
       "      <td>High School</td>\n",
       "      <td>Sales Executive</td>\n",
       "      <td>1.0</td>\n",
       "      <td>35000.0</td>\n",
       "      <td>Canada</td>\n",
       "      <td>Black</td>\n",
       "    </tr>\n",
       "  </tbody>\n",
       "</table>\n",
       "</div>"
      ],
      "text/plain": [
       "       Age  Gender    Education_Level          Job_Title  Years_of_Experience  \\\n",
       "6701  30.0  Female  Bachelor's Degree  Financial Manager                  4.0   \n",
       "6702  46.0    Male    Master's Degree  Marketing Manager                 14.0   \n",
       "6703  26.0  Female        High School    Sales Executive                  1.0   \n",
       "\n",
       "        Salary Country     Race  \n",
       "6701   55000.0   China  Chinese  \n",
       "6702  140000.0   China   Korean  \n",
       "6703   35000.0  Canada    Black  "
      ]
     },
     "execution_count": 3,
     "metadata": {},
     "output_type": "execute_result"
    }
   ],
   "source": [
    "df.tail(3)"
   ]
  },
  {
   "cell_type": "code",
   "execution_count": null,
   "id": "00ab7f82",
   "metadata": {},
   "outputs": [],
   "source": []
  },
  {
   "cell_type": "code",
   "execution_count": 4,
   "id": "5d53e8e7",
   "metadata": {},
   "outputs": [],
   "source": [
    "### para facilitar o trabalho, faço a separação das colunas numéricas e categóricas\n",
    "\n",
    "d_col = dict()\n",
    "d_col['num'] = ['Age', 'Years_of_Experience', 'Salary']\n",
    "d_col['cat'] = ['Gender', 'Education_Level', 'Job_Title', 'Country', 'Race']"
   ]
  },
  {
   "cell_type": "code",
   "execution_count": 5,
   "id": "ee54e458",
   "metadata": {},
   "outputs": [
    {
     "data": {
      "text/plain": [
       "{'num': ['Age', 'Years_of_Experience', 'Salary'],\n",
       " 'cat': ['Gender', 'Education_Level', 'Job_Title', 'Country', 'Race']}"
      ]
     },
     "execution_count": 5,
     "metadata": {},
     "output_type": "execute_result"
    }
   ],
   "source": [
    "d_col"
   ]
  },
  {
   "cell_type": "code",
   "execution_count": 6,
   "id": "43984dd5",
   "metadata": {},
   "outputs": [],
   "source": [
    "### Feature Engineering\n",
    "\n",
    "def replace_class(df, column, dict_replace):\n",
    "\n",
    "    df[column] = df[column].replace(dict_replace)\n",
    "    \n",
    "    return df\n",
    "\n",
    "def drop_class(df, column, class_):\n",
    "\n",
    "    df = df[df[column]!=class_]\n",
    "    \n",
    "    return df\n",
    "\n",
    "def clear_outliers(df, column, p):\n",
    "\n",
    "    min_ = df[column].quantile(p)\n",
    "    max_ = df[column].quantile(1-p)\n",
    "\n",
    "    df = df[(df[column]>=min_) & (df[column]<=max_)]\n",
    "\n",
    "    return df\n",
    "\n",
    "def drop_column(df, column):\n",
    "\n",
    "    df = df.drop(column, axis=1)\n",
    "\n",
    "    return df\n",
    "\n",
    "def categorical_encoding(df, ls_columns, datapath):\n",
    "    \n",
    "    le = LabelEncoder()\n",
    "\n",
    "    for col in ls_columns:\n",
    "            df[col] = le.fit_transform(df[col])\n",
    "            le_json = dict(zip(le.classes_, le.transform(le.classes_).astype('str')))\n",
    "            jsonpath = os.path.join(datapath, col+'.json')\n",
    "            with open(jsonpath, 'w') as f:\n",
    "                json.dump(le_json, f)\n",
    "    \n",
    "    return df"
   ]
  },
  {
   "cell_type": "code",
   "execution_count": 7,
   "id": "85e0ae31",
   "metadata": {},
   "outputs": [],
   "source": [
    "\n",
    "###################################################################################################################################################\n",
    "#############################################------------------ Preprocessamento v1 ------------------#############################################\n",
    "###################################################################################################################################################\n",
    "\n",
    "def process_job_v1(df, datapath):\n",
    "\n",
    "    ### Como o data_explore mostrou, existem uma boa parte do 'Job_Title' que aparecem com baixa frequencia e \n",
    "    ### que devem ser trabalhados pois não tem representação significativa em termo de machine learning.\n",
    "    ### Atraves das distancias de strings, será feita um pareamento dos 'Job_Title' que aparecem menos de 3 vezes \n",
    "    ### com o restante, de modo que serão considerados equivalentes os jobs com pontuação maior que 90, \n",
    "    ### do contrário será excluido do dataset.\n",
    "    \n",
    "    job_vc = df['Job_Title'].value_counts()\n",
    "\n",
    "    n = 5\n",
    "    major_job = job_vc[job_vc>n].index ### Job_Title com frequencia maior que n\n",
    "    minor_job = job_vc[job_vc<=n].index ### Job_Title com frequencia menor ou igual que n\n",
    "    ls1 = []\n",
    "    for mi in minor_job:\n",
    "        ls2 = []\n",
    "        for ma in major_job:\n",
    "            ls2.append(fuzz.token_set_ratio(mi.replace('_', ' '), ma.replace('_', ' ')))\n",
    "        ls1.append(ls2)\n",
    "\n",
    "    ls1 = np.array(ls1)\n",
    "\n",
    "    a = ls1.max(axis=1)\n",
    "    b = major_job[ls1.argmax(axis=1)]\n",
    "\n",
    "    df_job = pd.DataFrame({'job_minor': minor_job, 'score': a, 'job_major': b})\n",
    "\n",
    "    ### Jobs minoritários que serão substituidos pelo Job com pontuação maior que 90\n",
    "    df_rep = df_job[df_job['score']>=90]\n",
    "\n",
    "    ### Jobs minoritários que serão removidos por não haver outro Job com pareamento suficiente.\n",
    "    df_excl = df_job[df_job['score']<90]\n",
    "\n",
    "    df = df[~df['Job_Title'].isin(df_excl['job_minor'])]\n",
    "\n",
    "    for i, j in df_rep[['job_minor', 'job_major']].values:\n",
    "        df['Job_Title'] = df['Job_Title'].replace(i, j)\n",
    "\n",
    "    le = LabelEncoder()\n",
    "\n",
    "    df['Job_Title'] = le.fit_transform(df['Job_Title'])\n",
    "    le_json = dict(zip(le.classes_, le.transform(le.classes_).astype('str')))\n",
    "    jsonpath = os.path.join(datapath, 'Job_Title.json')\n",
    "    with open(jsonpath, 'w') as f:\n",
    "        json.dump(le_json, f)\n",
    "    columns_select = ['Gender', 'Education_Level', 'Years_of_Experience', 'Country', 'Race', 'Job_Title',\n",
    "                    'Salary']\n",
    "\n",
    "    return df[columns_select]\n",
    "\n",
    "###################################################################################################################################################\n",
    "#########---------------------------------------------------------------------------------------------------------------------------------#########\n",
    "###################################################################################################################################################\n",
    "\n",
    "###################################################################################################################################################\n",
    "#############################################------------------ Preprocessamento v2 ------------------#############################################\n",
    "###################################################################################################################################################\n",
    "def process_job_v2(df, datapath):\n",
    "\n",
    "    ### encoding Job_Title\n",
    "    ### existe 192 classes de Job_Title, muito deles com frequencia única\n",
    "    ### Algumas profissões são nomeadas com o nivel junior, senior, diretor etc. Porém há classes sem a especificidade do nivel\n",
    "    ### Por exemplo, há \"data_scientist\", \"senior_data_scientist\", \"junior_data_scientist\" e \"director_of_data_science\"\n",
    "    ### O tokenization e encoding será feito de forma que essas classes equivalentes a \"data_scientist\" sejam aproximadas, como o exemplo:\n",
    "    ### \"data_scientist\": [0, 14, 20], \"senior_data_scientist\": [1, 14, 20], \"junior_data_scientist\": [3, 14, 20], \"director_of_data_science\": [6, 14, 20]\n",
    "    ### Essa aproximação é feita pelos elementos em comum [14, 20], o que não ocorreria no caso de uma simples troca das classes por um número como\n",
    "    ### \"data_scientist\": 1, \"senior_data_scientist\": 2, \"junior_data_scientist\": 3, \"director_of_data_science\": 4\n",
    "    \n",
    "\n",
    "    ls_word = np.concatenate(df['Job_Title'].drop_duplicates().reset_index(drop=True).str.split('_'))\n",
    "    allWordDist = nltk.FreqDist(ls_word)\n",
    "    allWordDist.most_common(25)\n",
    "\n",
    "    n_vocab = len(allWordDist)\n",
    "    d_vocab = {}\n",
    "    d_vocab_r = {}\n",
    "    for i, word in enumerate(list(allWordDist)):\n",
    "        if word not in ['of', 'and']:\n",
    "            d_vocab[word] = i+1\n",
    "            d_vocab_r[i+1] = word\n",
    "            \n",
    "    jsonpath = os.path.join(datapath, 'Job_Title_words.json')\n",
    "    with open(jsonpath, 'w') as f:\n",
    "        json.dump(d_vocab, f)\n",
    "\n",
    "    ls_vec = []\n",
    "    for tokeniz in df['Job_Title'].str.split('_'):\n",
    "        ls_vec.append([0, 0, 0, 0] + [d_vocab[w] for w in tokeniz if w in d_vocab.keys()])\n",
    "\n",
    "    df['Job_Title_Vec'] = ls_vec\n",
    "    df['Job_Title_Vec'] = df['Job_Title_Vec'].str.slice(-5)\n",
    "\n",
    "\n",
    "    df['Job_Title_Vec_1'] = df['Job_Title_Vec'].apply(lambda x: x[0])\n",
    "    df['Job_Title_Vec_2'] = df['Job_Title_Vec'].apply(lambda x: x[1])\n",
    "    df['Job_Title_Vec_3'] = df['Job_Title_Vec'].apply(lambda x: x[2])\n",
    "    df['Job_Title_Vec_4'] = df['Job_Title_Vec'].apply(lambda x: x[3])\n",
    "    df['Job_Title_Vec_5'] = df['Job_Title_Vec'].apply(lambda x: x[4])\n",
    "    df = df.dropna().reset_index(drop=True)\n",
    "\n",
    "    columns_select = ['Gender', 'Education_Level', 'Years_of_Experience', 'Country', 'Race', \n",
    "                    'Job_Title_Vec_1', 'Job_Title_Vec_2', 'Job_Title_Vec_3', 'Job_Title_Vec_4', 'Job_Title_Vec_5',  \n",
    "                    'Salary']\n",
    "\n",
    "    return df[columns_select]"
   ]
  },
  {
   "cell_type": "code",
   "execution_count": null,
   "id": "d4b425ff",
   "metadata": {},
   "outputs": [],
   "source": []
  },
  {
   "cell_type": "markdown",
   "id": "da056f51",
   "metadata": {},
   "source": [
    "Esquema do processo de preparação da base"
   ]
  },
  {
   "cell_type": "markdown",
   "id": "2f932079",
   "metadata": {},
   "source": [
    "!['çiçhiokhç'](static/processa_dados.png)\n"
   ]
  },
  {
   "cell_type": "code",
   "execution_count": 8,
   "id": "8c95f1de",
   "metadata": {},
   "outputs": [],
   "source": [
    "df_preprocess = df.copy()"
   ]
  },
  {
   "cell_type": "code",
   "execution_count": 9,
   "id": "50a760d6",
   "metadata": {},
   "outputs": [],
   "source": [
    "## São apenas 6 linhas do total de 6704, os missing serão excluidos pois não influenciará no resultado final\n",
    "df_preprocess.dropna(inplace=True)\n",
    "\n",
    "### adequação das classes 'Education_Level' e 'Race' de acordo com as exploração dos dados\n",
    "df_preprocess = replace_class(df_preprocess, 'Education_Level', {\"bachelor's_degree\": \"bachelor's\", \"master's_degree\": \"master's\"})\n",
    "df_preprocess = replace_class(df_preprocess, 'Race', {'australian': 'white', 'welsh': 'white', 'korean': 'asian', 'chinese': 'asian', 'african_american': 'black'})\n",
    "\n",
    "### remoção dos gêneros 'other', dado sua insignificancia numérica\n",
    "df_preprocess = drop_class(df_preprocess, 'Race', 'other')\n",
    "\n",
    "### remover os dois extremos salariais\n",
    "df_preprocess = clear_outliers(df_preprocess, 'Salary', .005)\n",
    "\n",
    "### remover coluna\n",
    "df_preprocess = drop_column(df_preprocess, 'Age')\n",
    "\n",
    "### encoding categorical (o 'Job_Title' terá um tratamento diferente dado sua grande quantidade de classes)\n",
    "ls_columns = ['Gender', 'Education_Level', 'Country', 'Race']\n",
    "datapath = 'data_preprocess'\n",
    "df_preprocess = categorical_encoding(df_preprocess, ls_columns, datapath)"
   ]
  },
  {
   "cell_type": "code",
   "execution_count": null,
   "id": "8aaf9a4f",
   "metadata": {},
   "outputs": [],
   "source": []
  },
  {
   "cell_type": "code",
   "execution_count": 10,
   "id": "20f4bd04",
   "metadata": {},
   "outputs": [
    {
     "name": "stderr",
     "output_type": "stream",
     "text": [
      "/tmp/ipykernel_10566/1400598623.py:38: SettingWithCopyWarning: \n",
      "A value is trying to be set on a copy of a slice from a DataFrame.\n",
      "Try using .loc[row_indexer,col_indexer] = value instead\n",
      "\n",
      "See the caveats in the documentation: https://pandas.pydata.org/pandas-docs/stable/user_guide/indexing.html#returning-a-view-versus-a-copy\n",
      "  df['Job_Title'] = df['Job_Title'].replace(i, j)\n",
      "/tmp/ipykernel_10566/1400598623.py:42: SettingWithCopyWarning: \n",
      "A value is trying to be set on a copy of a slice from a DataFrame.\n",
      "Try using .loc[row_indexer,col_indexer] = value instead\n",
      "\n",
      "See the caveats in the documentation: https://pandas.pydata.org/pandas-docs/stable/user_guide/indexing.html#returning-a-view-versus-a-copy\n",
      "  df['Job_Title'] = le.fit_transform(df['Job_Title'])\n"
     ]
    }
   ],
   "source": [
    "### preprocessamento v1 do 'Job_Title' \n",
    "df_preprocess_v1 = process_job_v1(df_preprocess, datapath)"
   ]
  },
  {
   "cell_type": "code",
   "execution_count": 11,
   "id": "6f8495f3",
   "metadata": {},
   "outputs": [],
   "source": [
    "filename = os.path.join(datapath, 'salary_preprocess_v1.csv')\n",
    "df_preprocess_v1.to_csv(filename, index=None)"
   ]
  },
  {
   "cell_type": "markdown",
   "id": "2786d0ca",
   "metadata": {},
   "source": []
  },
  {
   "cell_type": "code",
   "execution_count": 12,
   "id": "2cdad200",
   "metadata": {},
   "outputs": [],
   "source": [
    "### preprocessamento v2 do 'Job_Title' \n",
    "df_preprocess_v2 = process_job_v2(df_preprocess, datapath)"
   ]
  },
  {
   "cell_type": "code",
   "execution_count": 13,
   "id": "edcc3c5a",
   "metadata": {},
   "outputs": [],
   "source": [
    "filename = os.path.join(datapath, 'salary_preprocess_v2.csv')\n",
    "df_preprocess_v2.to_csv(filename, index=None)"
   ]
  },
  {
   "cell_type": "code",
   "execution_count": null,
   "id": "2986544f",
   "metadata": {},
   "outputs": [],
   "source": []
  }
 ],
 "metadata": {
  "kernelspec": {
   "display_name": "Python 3 (ipykernel)",
   "language": "python",
   "name": "python3"
  },
  "language_info": {
   "codemirror_mode": {
    "name": "ipython",
    "version": 3
   },
   "file_extension": ".py",
   "mimetype": "text/x-python",
   "name": "python",
   "nbconvert_exporter": "python",
   "pygments_lexer": "ipython3",
   "version": "3.11.5"
  }
 },
 "nbformat": 4,
 "nbformat_minor": 5
}
